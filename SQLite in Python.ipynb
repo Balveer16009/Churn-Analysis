{
 "cells": [
  {
   "cell_type": "markdown",
   "id": "39cb65ea-9706-4565-a621-68f688e69e6f",
   "metadata": {},
   "source": [
    "# Introduction to SQLite and it's usage with Python"
   ]
  },
  {
   "cell_type": "code",
   "execution_count": 1,
   "id": "944fd7d8-3139-4244-94cf-f52fe5d9adf2",
   "metadata": {},
   "outputs": [],
   "source": [
    "import sqlite3"
   ]
  },
  {
   "cell_type": "markdown",
   "id": "451e44da-b48c-4e51-be5b-b5e4826a2bef",
   "metadata": {},
   "source": [
    "# Create a Connection, a Table and add data"
   ]
  },
  {
   "cell_type": "code",
   "execution_count": 4,
   "id": "0cfac8a6-87ef-4c0c-a83e-26b9d8064311",
   "metadata": {},
   "outputs": [],
   "source": [
    "# Creating a Connection (DB)\n",
    "conn = sqlite3.connect(\"example2.db\")"
   ]
  },
  {
   "cell_type": "code",
   "execution_count": 5,
   "id": "8b1e8aaa-527e-4e0a-8dcc-010e99e73c38",
   "metadata": {},
   "outputs": [],
   "source": [
    "# Creating a Cursor\n",
    "cur = conn.cursor()"
   ]
  },
  {
   "cell_type": "code",
   "execution_count": 6,
   "id": "f877db2a-9dbe-484f-bf3c-559739b0331a",
   "metadata": {},
   "outputs": [
    {
     "data": {
      "text/plain": [
       "<sqlite3.Cursor at 0x92d90efc00>"
      ]
     },
     "execution_count": 6,
     "metadata": {},
     "output_type": "execute_result"
    }
   ],
   "source": [
    "# Creating a table \n",
    "cur.execute(\"CREATE TABLE customer (Name TEXT, Last_Name TEXT, Income REAL)\")"
   ]
  },
  {
   "cell_type": "code",
   "execution_count": 10,
   "id": "8a709a72-e3cf-4c9f-aad1-87a999b5e0c4",
   "metadata": {},
   "outputs": [
    {
     "data": {
      "text/plain": [
       "<sqlite3.Cursor at 0x92d90efc00>"
      ]
     },
     "execution_count": 10,
     "metadata": {},
     "output_type": "execute_result"
    }
   ],
   "source": [
    "# Intert a row in a table\n",
    "cur.execute(\"INSERT INTO customer VALUES ('Balveer', 'Singh', '43500')\")"
   ]
  },
  {
   "cell_type": "code",
   "execution_count": 11,
   "id": "40e2d1ab-06ce-45c5-9b4e-1967ce7c6f65",
   "metadata": {},
   "outputs": [],
   "source": [
    "# Save results\n",
    "conn.commit()"
   ]
  },
  {
   "cell_type": "markdown",
   "id": "b054d4c5-a5fc-45ed-a68f-462c4b598908",
   "metadata": {},
   "source": [
    "# Connecting to Existing Database"
   ]
  },
  {
   "cell_type": "code",
   "execution_count": 26,
   "id": "0bf05149-afc1-46d0-b9c9-94810089ca5e",
   "metadata": {},
   "outputs": [],
   "source": [
    "conn = sqlite3.connect(\"example2.db\")\n",
    "cur = conn.cursor()"
   ]
  },
  {
   "cell_type": "code",
   "execution_count": 29,
   "id": "45cbcdf5-4149-4870-a1e5-8a3a00a3ffa8",
   "metadata": {},
   "outputs": [
    {
     "data": {
      "text/plain": [
       "('Balveer', 'Singh', 43500.0)"
      ]
     },
     "execution_count": 29,
     "metadata": {},
     "output_type": "execute_result"
    }
   ],
   "source": [
    "# Run Simple query\n",
    "cur.execute(\"SELECT * FROM customer\")\n",
    "cur.fetchone()"
   ]
  },
  {
   "cell_type": "code",
   "execution_count": 20,
   "id": "b4d60ebb-3b44-4012-bf71-a648c41dbae1",
   "metadata": {},
   "outputs": [
    {
     "name": "stdout",
     "output_type": "stream",
     "text": [
      "('Balveer', 'Singh', 43500.0)\n",
      "('Balveer', 'Singh', 43500.0)\n",
      "('Balveer', 'Singh', 43500.0)\n"
     ]
    }
   ],
   "source": [
    "# To fecth all the row in a table\n",
    "for row in cur.execute(\"SELECT * FROM customer\"):\n",
    "    print(row)"
   ]
  },
  {
   "cell_type": "markdown",
   "id": "9e16e4e8-9964-4244-b23f-ace47e51b993",
   "metadata": {},
   "source": [
    "# Add Several row "
   ]
  },
  {
   "cell_type": "code",
   "execution_count": 30,
   "id": "d4fe4b90-ff09-4517-b055-a1041703373f",
   "metadata": {},
   "outputs": [],
   "source": [
    "customer_list = [\n",
    "    ('Sujoy', 'Dey', 40000),\n",
    "    ('Nikunj', 'Sharma', 35000),\n",
    "    ('Anshu', 'Sharma', 50000)\n",
    "]"
   ]
  },
  {
   "cell_type": "code",
   "execution_count": 33,
   "id": "96fe9170-959b-48de-a791-4b67eecb1a75",
   "metadata": {},
   "outputs": [
    {
     "data": {
      "text/plain": [
       "<sqlite3.Cursor at 0x92dc6431f0>"
      ]
     },
     "execution_count": 33,
     "metadata": {},
     "output_type": "execute_result"
    }
   ],
   "source": [
    "cur.executemany(\"INSERT INTO customer VALUES(?,?,?)\", customer_list)"
   ]
  },
  {
   "cell_type": "code",
   "execution_count": 34,
   "id": "bdf7061e-8cba-482b-989d-75371a0211fe",
   "metadata": {},
   "outputs": [
    {
     "name": "stdout",
     "output_type": "stream",
     "text": [
      "('Balveer', 'Singh', 43500.0)\n",
      "('Balveer', 'Singh', 43500.0)\n",
      "('Balveer', 'Singh', 43500.0)\n",
      "('Sujoy', 'Dey', 40000.0)\n",
      "('Nikunj', 'Sharma', 35000.0)\n",
      "('Anshu', 'Sharma', 50000.0)\n"
     ]
    }
   ],
   "source": [
    "for row in cur.execute(\"SELECT * FROM customer\"):\n",
    "    print(row)"
   ]
  },
  {
   "cell_type": "code",
   "execution_count": 35,
   "id": "afadabd4-b0df-4fbb-9ce2-716de642ab52",
   "metadata": {},
   "outputs": [],
   "source": [
    "conn.commit()"
   ]
  },
  {
   "cell_type": "code",
   "execution_count": 36,
   "id": "bfda7642-b9ec-452b-9f66-70afd296001e",
   "metadata": {},
   "outputs": [],
   "source": [
    "conn.close()"
   ]
  },
  {
   "cell_type": "markdown",
   "id": "eb093d29-e5fc-464d-9a15-2a6d890402e3",
   "metadata": {},
   "source": [
    "# Run Quesries"
   ]
  },
  {
   "cell_type": "code",
   "execution_count": 37,
   "id": "78505288-7907-441b-a3ec-d40a8d2c82a3",
   "metadata": {},
   "outputs": [],
   "source": [
    "conn = sqlite3.connect(\"example2.db\")\n",
    "cur = conn.cursor()"
   ]
  },
  {
   "cell_type": "code",
   "execution_count": 39,
   "id": "e274596e-b085-439d-a62d-bdd4a60517fb",
   "metadata": {},
   "outputs": [
    {
     "data": {
      "text/plain": [
       "[('Balveer', 'Singh', 43500.0),\n",
       " ('Balveer', 'Singh', 43500.0),\n",
       " ('Balveer', 'Singh', 43500.0)]"
      ]
     },
     "execution_count": 39,
     "metadata": {},
     "output_type": "execute_result"
    }
   ],
   "source": [
    "cur.execute(\"SELECT * FROM customer WHERE Name = 'Balveer'\")\n",
    "cur.fetchall()"
   ]
  },
  {
   "cell_type": "code",
   "execution_count": 40,
   "id": "3a919b98-653d-4693-b51e-c80121f3b348",
   "metadata": {},
   "outputs": [
    {
     "data": {
      "text/plain": [
       "[('Nikunj', 'Sharma', 35000.0), ('Anshu', 'Sharma', 50000.0)]"
      ]
     },
     "execution_count": 40,
     "metadata": {},
     "output_type": "execute_result"
    }
   ],
   "source": [
    "cur.execute(\"SELECT * FROM customer WHERE Last_Name = 'Sharma'\")\n",
    "cur.fetchall()"
   ]
  },
  {
   "cell_type": "code",
   "execution_count": 41,
   "id": "dc2e1776-74fc-4f48-8a78-ea31e151af97",
   "metadata": {},
   "outputs": [
    {
     "data": {
      "text/plain": [
       "[]"
      ]
     },
     "execution_count": 41,
     "metadata": {},
     "output_type": "execute_result"
    }
   ],
   "source": [
    "cur.execute(\"SELECT * FROM customer WHERE Last_Name = 'Kumar'\")\n",
    "cur.fetchall()"
   ]
  },
  {
   "cell_type": "code",
   "execution_count": 42,
   "id": "4aa92712-3d80-4716-b2b3-f0a648f3c9f7",
   "metadata": {},
   "outputs": [
    {
     "data": {
      "text/plain": [
       "[('Sujoy', 'Dey', 40000.0),\n",
       " ('Nikunj', 'Sharma', 35000.0),\n",
       " ('Anshu', 'Sharma', 50000.0),\n",
       " ('Balveer', 'Singh', 43500.0),\n",
       " ('Balveer', 'Singh', 43500.0),\n",
       " ('Balveer', 'Singh', 43500.0)]"
      ]
     },
     "execution_count": 42,
     "metadata": {},
     "output_type": "execute_result"
    }
   ],
   "source": [
    "cur.execute(\"SELECT * FROM customer ORDER BY Last_Name\")\n",
    "cur.fetchall()"
   ]
  },
  {
   "cell_type": "code",
   "execution_count": 43,
   "id": "2cf0d320-9bb5-46b2-9226-bf2a8f45f907",
   "metadata": {},
   "outputs": [
    {
     "data": {
      "text/plain": [
       "(255500.0,)"
      ]
     },
     "execution_count": 43,
     "metadata": {},
     "output_type": "execute_result"
    }
   ],
   "source": [
    "cur.execute(\"SELECT SUM(Income) FROM customer\")\n",
    "cur.fetchone()"
   ]
  },
  {
   "cell_type": "code",
   "execution_count": 45,
   "id": "e1f8b1f6-0399-4d06-9dc5-51817b2e76e6",
   "metadata": {},
   "outputs": [],
   "source": [
    "conn.close()"
   ]
  },
  {
   "cell_type": "code",
   "execution_count": null,
   "id": "74ac5c5f-00e6-44cf-b663-5872433efaeb",
   "metadata": {},
   "outputs": [],
   "source": []
  },
  {
   "cell_type": "code",
   "execution_count": null,
   "id": "bacbe92b-33e3-4c26-9c8f-92e15418b851",
   "metadata": {},
   "outputs": [],
   "source": []
  },
  {
   "cell_type": "code",
   "execution_count": null,
   "id": "36d95366-1a65-4800-9b30-d07012c5302d",
   "metadata": {},
   "outputs": [],
   "source": []
  },
  {
   "cell_type": "code",
   "execution_count": null,
   "id": "030c3c62-b919-4c63-9b02-d000a22a788b",
   "metadata": {},
   "outputs": [],
   "source": []
  },
  {
   "cell_type": "code",
   "execution_count": null,
   "id": "8bfcd8e3-4390-43da-9d03-aa036ae78ce9",
   "metadata": {},
   "outputs": [],
   "source": []
  },
  {
   "cell_type": "code",
   "execution_count": null,
   "id": "7dbc3811-4059-4f62-8da9-3d444de9a90c",
   "metadata": {},
   "outputs": [],
   "source": []
  },
  {
   "cell_type": "code",
   "execution_count": null,
   "id": "83a43829-ba8f-472f-968e-e0040e19cef4",
   "metadata": {},
   "outputs": [],
   "source": []
  },
  {
   "cell_type": "code",
   "execution_count": null,
   "id": "66892d69-bc8f-45d5-91d4-c9041247a794",
   "metadata": {},
   "outputs": [],
   "source": []
  },
  {
   "cell_type": "code",
   "execution_count": null,
   "id": "94639c37-8f00-4523-9a09-aff144711e5d",
   "metadata": {},
   "outputs": [],
   "source": []
  },
  {
   "cell_type": "code",
   "execution_count": null,
   "id": "1d3829ff-3bc9-42cb-89c7-5c96f183d843",
   "metadata": {},
   "outputs": [],
   "source": []
  },
  {
   "cell_type": "code",
   "execution_count": null,
   "id": "a973a7cd-3d53-4be6-94ec-3c0e4007335b",
   "metadata": {},
   "outputs": [],
   "source": []
  },
  {
   "cell_type": "code",
   "execution_count": null,
   "id": "17c63b7e-bb8e-483e-8abd-8539469d54da",
   "metadata": {},
   "outputs": [],
   "source": []
  },
  {
   "cell_type": "code",
   "execution_count": null,
   "id": "62691c3e-69a1-41a9-8c01-5a338142f11f",
   "metadata": {},
   "outputs": [],
   "source": []
  }
 ],
 "metadata": {
  "kernelspec": {
   "display_name": "Python 3 (ipykernel)",
   "language": "python",
   "name": "python3"
  },
  "language_info": {
   "codemirror_mode": {
    "name": "ipython",
    "version": 3
   },
   "file_extension": ".py",
   "mimetype": "text/x-python",
   "name": "python",
   "nbconvert_exporter": "python",
   "pygments_lexer": "ipython3",
   "version": "3.9.12"
  }
 },
 "nbformat": 4,
 "nbformat_minor": 5
}
